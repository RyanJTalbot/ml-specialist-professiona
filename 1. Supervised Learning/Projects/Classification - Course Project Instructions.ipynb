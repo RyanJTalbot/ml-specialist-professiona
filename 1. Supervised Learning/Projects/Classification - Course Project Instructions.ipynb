{
 "cells": [
  {
   "cell_type": "markdown",
   "id": "e6140989",
   "metadata": {},
   "source": [
    "# Classification - Course Project Instructions"
   ]
  },
  {
   "cell_type": "markdown",
   "id": "32c3c98b",
   "metadata": {},
   "source": [
    "## Required\n",
    "\n",
    "Once you have selected a data set, you will produce the deliverables listed below and submit them to one of your peers for review. Treat this exercise as an opportunity to produce analysis that are ready to highlight your analytical skills for a senior audience, for example, the Chief Data Officer, or the Head of Analytics at your company.\n",
    "\n",
    "Sections required in your report:\n",
    "\n",
    "- Main objective of the analysis that specifies whether your model will be focused on <b>prediction or interpretation</b> and the benefits that your analysis provides to the business or stakeholders of this data.\n",
    "- Brief description of the data set you chose, a summary of its <b>attributes</b>, and an outline of what you are <b>trying to accomplish</b> with this analysis.\n",
    "- Brief summary of data exploration and actions taken for <b>data cleaning and feature engineering</b>.\n",
    "- Summary of training at least <b>three different classifier models</b>, preferably of different nature in explainability and predictability. For example, you can start with a simple logistic regression as a baseline, adding other models or ensemble models. Preferably, all - A paragraph explaining which of your classifier models you recommend as a final model that best fits your needs in terms of accuracy and explainability.\n",
    "- <b>Summary Key Findings and Insights,</b> which walks your reader through the main drivers of your model and insights from your data derived from your classifier model.\n",
    "- Suggestions for <b>next steps</b> in analyzing this data, which may include suggesting revisiting this model after adding specific data features that may help you achieve a better explanation or a better prediction."
   ]
  },
  {
   "cell_type": "code",
   "execution_count": null,
   "id": "a8e2fd78",
   "metadata": {},
   "outputs": [],
   "source": []
  },
  {
   "cell_type": "code",
   "execution_count": null,
   "id": "ca51e540",
   "metadata": {},
   "outputs": [],
   "source": []
  }
 ],
 "metadata": {
  "kernelspec": {
   "display_name": "Python 3 (ipykernel)",
   "language": "python",
   "name": "python3"
  },
  "language_info": {
   "codemirror_mode": {
    "name": "ipython",
    "version": 3
   },
   "file_extension": ".py",
   "mimetype": "text/x-python",
   "name": "python",
   "nbconvert_exporter": "python",
   "pygments_lexer": "ipython3",
   "version": "3.9.12"
  }
 },
 "nbformat": 4,
 "nbformat_minor": 5
}
