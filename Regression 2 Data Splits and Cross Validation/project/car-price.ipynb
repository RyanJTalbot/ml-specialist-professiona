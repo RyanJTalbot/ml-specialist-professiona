{
 "cells": [
  {
   "cell_type": "markdown",
   "id": "2da9a888",
   "metadata": {},
   "source": [
    "## Required\n",
    "\n",
    "Main objective of the analysis that specifies whether your model will be focused on: prediction  \n",
    " \n",
    "\n",
    "Brief description of the data set you chose and a summary of its attributes. \n",
    "- The data set is on cars; prices, make model, year, mpg, popularity, msrp, etc.\n",
    "\n",
    "Brief summary of data exploration actions taken for data cleaning actions taken for feature engineering. \n",
    "- For the data exploration i looked at the distribution of the target variable, the features, distribution of values in these features, quality of data, and the number of missing values. \n",
    "- Data cleaning replaced spaces with underscores and all string columns were lowercase. \n",
    "- Feature engineering: subtracted current year from year of car to get the cars age\n",
    "\n",
    "Summary of training at least three linear regression models which should be variations that cover using:\n",
    "- a simple linear regression as a baseline, \n",
    "    - Created an array that only contains ones, then added the array of ls as the first column of X. I computed X^TX and its inverse. Computed the rest of the normal equation and split the weights vector into bias and the rest of the weights. \n",
    "\n",
    "- adding polynomial effects, \n",
    "- and using a regularization regression. \n",
    "    - I controlled the amount of regularization by using the parameter r and added r to the main diagonal of XTX. Resulted in making the components of w smaller in the final solution. \n",
    "\n",
    "\n",
    "A paragraph explaining which of your regressions you recommend as a final model that best fits your needs in terms of accuracy and explainability. \n",
    "\n",
    "\n",
    "Summary Key Findings and Insights, which walks your reader through the main drivers of your model and insights from your data derived from your linear regression model. \n",
    "\n",
    "Suggestions for next steps in analyzing this data, which may include suggesting revisiting this model adding specific data features to achieve a better explanation or a better prediction.\n"
   ]
  },
  {
   "cell_type": "code",
   "execution_count": 1,
   "id": "35c538b0",
   "metadata": {},
   "outputs": [],
   "source": [
    "import numpy as np \n",
    "import pandas as pd\n",
    "\n",
    "from matplotlib import pyplot as plt\n",
    "import seaborn as sns\n",
    "%matplotlib inline"
   ]
  },
  {
   "cell_type": "code",
   "execution_count": 2,
   "id": "1a9af9e3",
   "metadata": {},
   "outputs": [],
   "source": [
    "df = pd.read_csv('data.csv')"
   ]
  },
  {
   "cell_type": "code",
   "execution_count": 3,
   "id": "e7048339",
   "metadata": {},
   "outputs": [
    {
     "data": {
      "text/plain": [
       "11914"
      ]
     },
     "execution_count": 3,
     "metadata": {},
     "output_type": "execute_result"
    }
   ],
   "source": [
    "len(df)"
   ]
  },
  {
   "cell_type": "markdown",
   "id": "d3c745fa",
   "metadata": {},
   "source": [
    "The function prints 11914, which means that there are almost 12,000 cars in this dataset"
   ]
  },
  {
   "cell_type": "markdown",
   "id": "d20b9767",
   "metadata": {},
   "source": [
    "### Brief description of the data set you chose and a summary of its attributes. \n"
   ]
  },
  {
   "cell_type": "code",
   "execution_count": 47,
   "id": "46fc03aa",
   "metadata": {},
   "outputs": [
    {
     "data": {
      "text/html": [
       "<div>\n",
       "<style scoped>\n",
       "    .dataframe tbody tr th:only-of-type {\n",
       "        vertical-align: middle;\n",
       "    }\n",
       "\n",
       "    .dataframe tbody tr th {\n",
       "        vertical-align: top;\n",
       "    }\n",
       "\n",
       "    .dataframe thead th {\n",
       "        text-align: right;\n",
       "    }\n",
       "</style>\n",
       "<table border=\"1\" class=\"dataframe\">\n",
       "  <thead>\n",
       "    <tr style=\"text-align: right;\">\n",
       "      <th></th>\n",
       "      <th>make</th>\n",
       "      <th>model</th>\n",
       "      <th>year</th>\n",
       "      <th>engine_fuel_type</th>\n",
       "      <th>engine_hp</th>\n",
       "      <th>engine_cylinders</th>\n",
       "      <th>transmission_type</th>\n",
       "      <th>driven_wheels</th>\n",
       "      <th>number_of_doors</th>\n",
       "      <th>market_category</th>\n",
       "      <th>vehicle_size</th>\n",
       "      <th>vehicle_style</th>\n",
       "      <th>highway_mpg</th>\n",
       "      <th>city_mpg</th>\n",
       "      <th>popularity</th>\n",
       "      <th>msrp</th>\n",
       "    </tr>\n",
       "  </thead>\n",
       "  <tbody>\n",
       "    <tr>\n",
       "      <th>0</th>\n",
       "      <td>bmw</td>\n",
       "      <td>1_series_m</td>\n",
       "      <td>2011</td>\n",
       "      <td>premium_unleaded_(required)</td>\n",
       "      <td>335.0</td>\n",
       "      <td>6.0</td>\n",
       "      <td>manual</td>\n",
       "      <td>rear_wheel_drive</td>\n",
       "      <td>2.0</td>\n",
       "      <td>factory_tuner,luxury,high-performance</td>\n",
       "      <td>compact</td>\n",
       "      <td>coupe</td>\n",
       "      <td>26</td>\n",
       "      <td>19</td>\n",
       "      <td>3916</td>\n",
       "      <td>46135</td>\n",
       "    </tr>\n",
       "    <tr>\n",
       "      <th>1</th>\n",
       "      <td>bmw</td>\n",
       "      <td>1_series</td>\n",
       "      <td>2011</td>\n",
       "      <td>premium_unleaded_(required)</td>\n",
       "      <td>300.0</td>\n",
       "      <td>6.0</td>\n",
       "      <td>manual</td>\n",
       "      <td>rear_wheel_drive</td>\n",
       "      <td>2.0</td>\n",
       "      <td>luxury,performance</td>\n",
       "      <td>compact</td>\n",
       "      <td>convertible</td>\n",
       "      <td>28</td>\n",
       "      <td>19</td>\n",
       "      <td>3916</td>\n",
       "      <td>40650</td>\n",
       "    </tr>\n",
       "    <tr>\n",
       "      <th>2</th>\n",
       "      <td>bmw</td>\n",
       "      <td>1_series</td>\n",
       "      <td>2011</td>\n",
       "      <td>premium_unleaded_(required)</td>\n",
       "      <td>300.0</td>\n",
       "      <td>6.0</td>\n",
       "      <td>manual</td>\n",
       "      <td>rear_wheel_drive</td>\n",
       "      <td>2.0</td>\n",
       "      <td>luxury,high-performance</td>\n",
       "      <td>compact</td>\n",
       "      <td>coupe</td>\n",
       "      <td>28</td>\n",
       "      <td>20</td>\n",
       "      <td>3916</td>\n",
       "      <td>36350</td>\n",
       "    </tr>\n",
       "    <tr>\n",
       "      <th>3</th>\n",
       "      <td>bmw</td>\n",
       "      <td>1_series</td>\n",
       "      <td>2011</td>\n",
       "      <td>premium_unleaded_(required)</td>\n",
       "      <td>230.0</td>\n",
       "      <td>6.0</td>\n",
       "      <td>manual</td>\n",
       "      <td>rear_wheel_drive</td>\n",
       "      <td>2.0</td>\n",
       "      <td>luxury,performance</td>\n",
       "      <td>compact</td>\n",
       "      <td>coupe</td>\n",
       "      <td>28</td>\n",
       "      <td>18</td>\n",
       "      <td>3916</td>\n",
       "      <td>29450</td>\n",
       "    </tr>\n",
       "    <tr>\n",
       "      <th>4</th>\n",
       "      <td>bmw</td>\n",
       "      <td>1_series</td>\n",
       "      <td>2011</td>\n",
       "      <td>premium_unleaded_(required)</td>\n",
       "      <td>230.0</td>\n",
       "      <td>6.0</td>\n",
       "      <td>manual</td>\n",
       "      <td>rear_wheel_drive</td>\n",
       "      <td>2.0</td>\n",
       "      <td>luxury</td>\n",
       "      <td>compact</td>\n",
       "      <td>convertible</td>\n",
       "      <td>28</td>\n",
       "      <td>18</td>\n",
       "      <td>3916</td>\n",
       "      <td>34500</td>\n",
       "    </tr>\n",
       "  </tbody>\n",
       "</table>\n",
       "</div>"
      ],
      "text/plain": [
       "  make       model  year             engine_fuel_type  engine_hp  \\\n",
       "0  bmw  1_series_m  2011  premium_unleaded_(required)      335.0   \n",
       "1  bmw    1_series  2011  premium_unleaded_(required)      300.0   \n",
       "2  bmw    1_series  2011  premium_unleaded_(required)      300.0   \n",
       "3  bmw    1_series  2011  premium_unleaded_(required)      230.0   \n",
       "4  bmw    1_series  2011  premium_unleaded_(required)      230.0   \n",
       "\n",
       "   engine_cylinders transmission_type     driven_wheels  number_of_doors  \\\n",
       "0               6.0            manual  rear_wheel_drive              2.0   \n",
       "1               6.0            manual  rear_wheel_drive              2.0   \n",
       "2               6.0            manual  rear_wheel_drive              2.0   \n",
       "3               6.0            manual  rear_wheel_drive              2.0   \n",
       "4               6.0            manual  rear_wheel_drive              2.0   \n",
       "\n",
       "                         market_category vehicle_size vehicle_style  \\\n",
       "0  factory_tuner,luxury,high-performance      compact         coupe   \n",
       "1                     luxury,performance      compact   convertible   \n",
       "2                luxury,high-performance      compact         coupe   \n",
       "3                     luxury,performance      compact         coupe   \n",
       "4                                 luxury      compact   convertible   \n",
       "\n",
       "   highway_mpg  city_mpg  popularity   msrp  \n",
       "0           26        19        3916  46135  \n",
       "1           28        19        3916  40650  \n",
       "2           28        20        3916  36350  \n",
       "3           28        18        3916  29450  \n",
       "4           28        18        3916  34500  "
      ]
     },
     "execution_count": 47,
     "metadata": {},
     "output_type": "execute_result"
    }
   ],
   "source": [
    "df.head()"
   ]
  },
  {
   "cell_type": "markdown",
   "id": "6b72ce07",
   "metadata": {},
   "source": [
    "The function prints 11914, which means that there are almost 12,000 cars in this dataset"
   ]
  },
  {
   "cell_type": "code",
   "execution_count": 5,
   "id": "26f2bd40",
   "metadata": {},
   "outputs": [],
   "source": [
    "# Lowercases all the columns names, and replaces spaces with underscores\n",
    "df.columns = df.columns.str.lower().str.replace(' ', '_')\n",
    "\n",
    "# Selects only columns with string values\n",
    "string_columns = list(df.dtypes[df.dtypes == 'object'].index)\n",
    "\n",
    "# Lowercases and replaces spaces with underscores for values in all string columns of the DataFrame\n",
    "for col in string_columns:\n",
    "    df[col] = df[col].str.lower().str.replace(' ', '_')"
   ]
  },
  {
   "cell_type": "code",
   "execution_count": 6,
   "id": "77f2d3e5",
   "metadata": {},
   "outputs": [
    {
     "data": {
      "text/html": [
       "<div>\n",
       "<style scoped>\n",
       "    .dataframe tbody tr th:only-of-type {\n",
       "        vertical-align: middle;\n",
       "    }\n",
       "\n",
       "    .dataframe tbody tr th {\n",
       "        vertical-align: top;\n",
       "    }\n",
       "\n",
       "    .dataframe thead th {\n",
       "        text-align: right;\n",
       "    }\n",
       "</style>\n",
       "<table border=\"1\" class=\"dataframe\">\n",
       "  <thead>\n",
       "    <tr style=\"text-align: right;\">\n",
       "      <th></th>\n",
       "      <th>make</th>\n",
       "      <th>model</th>\n",
       "      <th>year</th>\n",
       "      <th>engine_fuel_type</th>\n",
       "      <th>engine_hp</th>\n",
       "      <th>engine_cylinders</th>\n",
       "      <th>transmission_type</th>\n",
       "      <th>driven_wheels</th>\n",
       "      <th>number_of_doors</th>\n",
       "      <th>market_category</th>\n",
       "      <th>vehicle_size</th>\n",
       "      <th>vehicle_style</th>\n",
       "      <th>highway_mpg</th>\n",
       "      <th>city_mpg</th>\n",
       "      <th>popularity</th>\n",
       "      <th>msrp</th>\n",
       "    </tr>\n",
       "  </thead>\n",
       "  <tbody>\n",
       "    <tr>\n",
       "      <th>0</th>\n",
       "      <td>bmw</td>\n",
       "      <td>1_series_m</td>\n",
       "      <td>2011</td>\n",
       "      <td>premium_unleaded_(required)</td>\n",
       "      <td>335.0</td>\n",
       "      <td>6.0</td>\n",
       "      <td>manual</td>\n",
       "      <td>rear_wheel_drive</td>\n",
       "      <td>2.0</td>\n",
       "      <td>factory_tuner,luxury,high-performance</td>\n",
       "      <td>compact</td>\n",
       "      <td>coupe</td>\n",
       "      <td>26</td>\n",
       "      <td>19</td>\n",
       "      <td>3916</td>\n",
       "      <td>46135</td>\n",
       "    </tr>\n",
       "    <tr>\n",
       "      <th>1</th>\n",
       "      <td>bmw</td>\n",
       "      <td>1_series</td>\n",
       "      <td>2011</td>\n",
       "      <td>premium_unleaded_(required)</td>\n",
       "      <td>300.0</td>\n",
       "      <td>6.0</td>\n",
       "      <td>manual</td>\n",
       "      <td>rear_wheel_drive</td>\n",
       "      <td>2.0</td>\n",
       "      <td>luxury,performance</td>\n",
       "      <td>compact</td>\n",
       "      <td>convertible</td>\n",
       "      <td>28</td>\n",
       "      <td>19</td>\n",
       "      <td>3916</td>\n",
       "      <td>40650</td>\n",
       "    </tr>\n",
       "    <tr>\n",
       "      <th>2</th>\n",
       "      <td>bmw</td>\n",
       "      <td>1_series</td>\n",
       "      <td>2011</td>\n",
       "      <td>premium_unleaded_(required)</td>\n",
       "      <td>300.0</td>\n",
       "      <td>6.0</td>\n",
       "      <td>manual</td>\n",
       "      <td>rear_wheel_drive</td>\n",
       "      <td>2.0</td>\n",
       "      <td>luxury,high-performance</td>\n",
       "      <td>compact</td>\n",
       "      <td>coupe</td>\n",
       "      <td>28</td>\n",
       "      <td>20</td>\n",
       "      <td>3916</td>\n",
       "      <td>36350</td>\n",
       "    </tr>\n",
       "    <tr>\n",
       "      <th>3</th>\n",
       "      <td>bmw</td>\n",
       "      <td>1_series</td>\n",
       "      <td>2011</td>\n",
       "      <td>premium_unleaded_(required)</td>\n",
       "      <td>230.0</td>\n",
       "      <td>6.0</td>\n",
       "      <td>manual</td>\n",
       "      <td>rear_wheel_drive</td>\n",
       "      <td>2.0</td>\n",
       "      <td>luxury,performance</td>\n",
       "      <td>compact</td>\n",
       "      <td>coupe</td>\n",
       "      <td>28</td>\n",
       "      <td>18</td>\n",
       "      <td>3916</td>\n",
       "      <td>29450</td>\n",
       "    </tr>\n",
       "    <tr>\n",
       "      <th>4</th>\n",
       "      <td>bmw</td>\n",
       "      <td>1_series</td>\n",
       "      <td>2011</td>\n",
       "      <td>premium_unleaded_(required)</td>\n",
       "      <td>230.0</td>\n",
       "      <td>6.0</td>\n",
       "      <td>manual</td>\n",
       "      <td>rear_wheel_drive</td>\n",
       "      <td>2.0</td>\n",
       "      <td>luxury</td>\n",
       "      <td>compact</td>\n",
       "      <td>convertible</td>\n",
       "      <td>28</td>\n",
       "      <td>18</td>\n",
       "      <td>3916</td>\n",
       "      <td>34500</td>\n",
       "    </tr>\n",
       "  </tbody>\n",
       "</table>\n",
       "</div>"
      ],
      "text/plain": [
       "  make       model  year             engine_fuel_type  engine_hp  \\\n",
       "0  bmw  1_series_m  2011  premium_unleaded_(required)      335.0   \n",
       "1  bmw    1_series  2011  premium_unleaded_(required)      300.0   \n",
       "2  bmw    1_series  2011  premium_unleaded_(required)      300.0   \n",
       "3  bmw    1_series  2011  premium_unleaded_(required)      230.0   \n",
       "4  bmw    1_series  2011  premium_unleaded_(required)      230.0   \n",
       "\n",
       "   engine_cylinders transmission_type     driven_wheels  number_of_doors  \\\n",
       "0               6.0            manual  rear_wheel_drive              2.0   \n",
       "1               6.0            manual  rear_wheel_drive              2.0   \n",
       "2               6.0            manual  rear_wheel_drive              2.0   \n",
       "3               6.0            manual  rear_wheel_drive              2.0   \n",
       "4               6.0            manual  rear_wheel_drive              2.0   \n",
       "\n",
       "                         market_category vehicle_size vehicle_style  \\\n",
       "0  factory_tuner,luxury,high-performance      compact         coupe   \n",
       "1                     luxury,performance      compact   convertible   \n",
       "2                luxury,high-performance      compact         coupe   \n",
       "3                     luxury,performance      compact         coupe   \n",
       "4                                 luxury      compact   convertible   \n",
       "\n",
       "   highway_mpg  city_mpg  popularity   msrp  \n",
       "0           26        19        3916  46135  \n",
       "1           28        19        3916  40650  \n",
       "2           28        20        3916  36350  \n",
       "3           28        18        3916  29450  \n",
       "4           28        18        3916  34500  "
      ]
     },
     "execution_count": 6,
     "metadata": {},
     "output_type": "execute_result"
    }
   ],
   "source": [
    "df.head()"
   ]
  },
  {
   "cell_type": "markdown",
   "id": "c2a0cdcb",
   "metadata": {},
   "source": [
    "The result of preprocessing the data. The column names and values are normalized:\n",
    "they are lowercase, and the spaces are converted to underscores."
   ]
  },
  {
   "cell_type": "code",
   "execution_count": 7,
   "id": "1f762d2e",
   "metadata": {},
   "outputs": [
    {
     "data": {
      "text/plain": [
       "<AxesSubplot:xlabel='msrp', ylabel='Count'>"
      ]
     },
     "execution_count": 7,
     "metadata": {},
     "output_type": "execute_result"
    },
    {
     "data": {
      "image/png": "[encoded data removed]",
      "text/plain": [
       "<Figure size 432x288 with 1 Axes>"
      ]
     },
     "metadata": {
      "needs_background": "light"
     },
     "output_type": "display_data"
    }
   ],
   "source": [
    "sns.histplot(df.msrp, bins=40)"
   ]
  },
  {
   "cell_type": "markdown",
   "id": "47274f9d",
   "metadata": {},
   "source": [
    "The distribution of the prices in the dataset. We see many values at the low end\n",
    "of the price axis and almost nothing at the high end. This is a long tail distribution, which is\n",
    "a typical situation for many items with low prices and very few expensive ones."
   ]
  },
  {
   "cell_type": "code",
   "execution_count": 8,
   "id": "7f459cd0",
   "metadata": {},
   "outputs": [
    {
     "data": {
      "text/plain": [
       "<AxesSubplot:xlabel='msrp', ylabel='Count'>"
      ]
     },
     "execution_count": 8,
     "metadata": {},
     "output_type": "execute_result"
    },
    {
     "data": {
      "image/png": "[encoded data removed]",
      "text/plain": [
       "<Figure size 432x288 with 1 Axes>"
      ]
     },
     "metadata": {
      "needs_background": "light"
     },
     "output_type": "display_data"
    }
   ],
   "source": [
    "sns.histplot(df.msrp[df.msrp < 100000])"
   ]
  },
  {
   "cell_type": "markdown",
   "id": "ed4f9d30",
   "metadata": {},
   "source": [
    "The distribution of the prices for cars below $100,000. Looking only at car\n",
    "prices below $100,000 allows us to see the head of the distribution better. We also notice\n",
    "a lot of cars that cost $1,000."
   ]
  },
  {
   "cell_type": "code",
   "execution_count": 9,
   "id": "f7d9f397",
   "metadata": {},
   "outputs": [],
   "source": [
    "log_price = np.log1p(df.msrp)"
   ]
  },
  {
   "cell_type": "code",
   "execution_count": 10,
   "id": "884c5fda",
   "metadata": {},
   "outputs": [
    {
     "data": {
      "text/plain": [
       "<AxesSubplot:xlabel='msrp', ylabel='Count'>"
      ]
     },
     "execution_count": 10,
     "metadata": {},
     "output_type": "execute_result"
    },
    {
     "data": {
      "image/png": "[encoded data removed]",
      "text/plain": [
       "<Figure size 432x288 with 1 Axes>"
      ]
     },
     "metadata": {
      "needs_background": "light"
     },
     "output_type": "display_data"
    }
   ],
   "source": [
    "sns.histplot(log_price)"
   ]
  },
  {
   "cell_type": "markdown",
   "id": "39caaacd",
   "metadata": {},
   "source": [
    "The logarithm of the price. The effect of the long tail is removed, and we\n",
    "can see the entire distribution in one plot."
   ]
  },
  {
   "cell_type": "code",
   "execution_count": 11,
   "id": "8ecb76f7",
   "metadata": {},
   "outputs": [
    {
     "data": {
      "text/plain": [
       "make                    0\n",
       "model                   0\n",
       "year                    0\n",
       "engine_fuel_type        3\n",
       "engine_hp              69\n",
       "engine_cylinders       30\n",
       "transmission_type       0\n",
       "driven_wheels           0\n",
       "number_of_doors         6\n",
       "market_category      3742\n",
       "vehicle_size            0\n",
       "vehicle_style           0\n",
       "highway_mpg             0\n",
       "city_mpg                0\n",
       "popularity              0\n",
       "msrp                    0\n",
       "dtype: int64"
      ]
     },
     "execution_count": 11,
     "metadata": {},
     "output_type": "execute_result"
    }
   ],
   "source": [
    "df.isnull().sum()"
   ]
  },
  {
   "cell_type": "markdown",
   "id": "3b607282",
   "metadata": {},
   "source": [
    "We need to deal with missing values later when we train the model, so we should\n",
    "keep this problem in mind. For now, we don’t do anything else with these features and\n",
    "proceed to the next step: setting up the validation framework so that we can train and\n",
    "test machine learning models."
   ]
  },
  {
   "cell_type": "markdown",
   "id": "3fe48784",
   "metadata": {},
   "source": [
    "The entire dataset is split into three parts: train, validation and test.\n",
    "* 20% of data goes to validation\n",
    "* 20% goest to test\n",
    "* remaining 60% goes to train."
   ]
  },
  {
   "cell_type": "code",
   "execution_count": 12,
   "id": "fcd4811e",
   "metadata": {},
   "outputs": [],
   "source": [
    "# get the number of rows in the dataframe\n",
    "n = len(df)\n",
    "\n",
    "# calculate how many rows should go to train, validation , and test\n",
    "n_val = int(0.2 * n)\n",
    "n_test = int(0.2 * n)\n",
    "n_train = n - (n_val + n_test)\n",
    "\n",
    "# Fixes the random seed to make sure that the results are reproducible\n",
    "# Create a numpy array with indicies from 0 to (n-1), and shuffles it\n",
    "np.random.seed(2)\n",
    "idx = np.arange(n)\n",
    "np.random.shuffle(idx)\n",
    "\n",
    "# use the array with indicies to get a shuffled DataFrame\n",
    "df_shuffled = df.iloc[idx]\n",
    "\n",
    "# Split the shuffled DataFrame into train, validation, and test\n",
    "df_train = df_shuffled.iloc[:n_train].copy()\n",
    "df_val = df_shuffled.iloc[n_train:n_train+n_val].copy()\n",
    "df_test = df_shuffled.iloc[n_train+n_val:].copy()"
   ]
  },
  {
   "cell_type": "markdown",
   "id": "561492bb",
   "metadata": {},
   "source": [
    "Now the DataFrame is split into three parts, and we can continue. Our initial analysis\n",
    "showed a long tail in the distribution of prices, and to remove its effect, we need to\n",
    "apply the log transformation. We can do that for each DataFrame separately:"
   ]
  },
  {
   "cell_type": "code",
   "execution_count": 13,
   "id": "304fca65",
   "metadata": {},
   "outputs": [],
   "source": [
    "y_train_orig = df_train.msrp.values\n",
    "y_val_orig = df_val.msrp.values\n",
    "y_test_orig = df_test.msrp.values\n",
    "\n",
    "y_train = np.log1p(df_train.msrp.values)\n",
    "y_val = np.log1p(df_val.msrp.values)\n",
    "y_test = np.log1p(df_test.msrp.values)\n",
    "\n",
    "del df_train['msrp']\n",
    "del df_val['msrp']\n",
    "del df_test['msrp']"
   ]
  },
  {
   "cell_type": "markdown",
   "id": "440bc4c7",
   "metadata": {},
   "source": [
    "To avoid accidentally using the target variable later, let’s remove it from the dataframes:"
   ]
  },
  {
   "cell_type": "markdown",
   "id": "b2744402",
   "metadata": {},
   "source": [
    "## When the validation split is done, we can go to the next step: training a model."
   ]
  },
  {
   "cell_type": "markdown",
   "id": "838ab9ab",
   "metadata": {},
   "source": [
    "After performing the initial data analysis, we are ready to train a model. The problem\n",
    "we are solving is a regression problem: the goal is to predict a number — the price of\n",
    "a car."
   ]
  },
  {
   "cell_type": "markdown",
   "id": "27eb9102",
   "metadata": {},
   "source": [
    "a supervised machine learning model has the form\n",
    "\n",
    "y = g(X)\n",
    "\n",
    "This is a matrix form. X is a matrix where the features of observations are rows of the\n",
    "matrix, and y is a vector with the values we want to predict."
   ]
  },
  {
   "cell_type": "markdown",
   "id": "16eb5fd3",
   "metadata": {},
   "source": [
    "### Exercise 2.2\n",
    "\n",
    "For supervised learning, we use a machine learning model for a single observation yi ≈ g(xi). What are xi and yi for this project?\n",
    "\n",
    "* xi is a feature vector — a vector that contains a few numbers that describe the object (a car) — and yi is the logarithm of the price of this car.\n",
    "* yi is a feature vector — a vector that contains a few numbers that describe the object (a car) — and xi is the logarithm of the price of this car."
   ]
  },
  {
   "cell_type": "markdown",
   "id": "95f74e1b",
   "metadata": {},
   "source": [
    "### Exercise 2.3\n",
    "When we multiply the matrix X by the weights vector w, we get\n",
    "* a A vector y with the actual price\n",
    "* b A vector y with price predictions\n",
    "* c A single number y with price predictions"
   ]
  },
  {
   "cell_type": "markdown",
   "id": "dff5e6cf",
   "metadata": {},
   "source": [
    "## Linear Regression"
   ]
  },
  {
   "cell_type": "markdown",
   "id": "beec3db2",
   "metadata": {},
   "source": [
    "#### To implement the normal equation, we need to do the following:\n",
    "* 1 Create a function that takes in a matrix X with features and a vector y with the target.\n",
    "* 2 Add a dummy column (the feature that is always set to 1) to the matrix X.\n",
    "* 3 Train the model: compute the weights w by using the normal equation.\n",
    "* 4 Split this w into the bias w0 and the rest of the weights, and return them."
   ]
  },
  {
   "cell_type": "code",
   "execution_count": 14,
   "id": "e95e5064",
   "metadata": {},
   "outputs": [],
   "source": [
    "def train_linear_regression(X, y):\n",
    "    ones = np.ones(X.shape[0])\n",
    "    X = np.column_stack([ones, X])\n",
    "\n",
    "    XTX = X.T.dot(X)\n",
    "    XTX_inv = np.linalg.inv(XTX)\n",
    "    w = XTX_inv.dot(X.T).dot(y)\n",
    "    \n",
    "    return w[0], w[1:]"
   ]
  },
  {
   "cell_type": "markdown",
   "id": "0377e9a5",
   "metadata": {},
   "source": [
    "## Baseline Solution"
   ]
  },
  {
   "cell_type": "code",
   "execution_count": 15,
   "id": "dfe1791a",
   "metadata": {},
   "outputs": [],
   "source": [
    "base = ['engine_hp', 'engine_cylinders', 'highway_mpg', 'city_mpg', 'popularity']"
   ]
  },
  {
   "cell_type": "markdown",
   "id": "120c06cf",
   "metadata": {},
   "source": [
    "save the above featues to a variable df_numn"
   ]
  },
  {
   "cell_type": "code",
   "execution_count": 16,
   "id": "d08d614a",
   "metadata": {},
   "outputs": [],
   "source": [
    "df_num = df_train[base]\n"
   ]
  },
  {
   "cell_type": "markdown",
   "id": "05cc31fc",
   "metadata": {},
   "source": [
    "replace missinging values with 0's, with fillno(0)"
   ]
  },
  {
   "cell_type": "code",
   "execution_count": 17,
   "id": "1c0addb7",
   "metadata": {},
   "outputs": [],
   "source": [
    "df_num = df_num.fillna(0)"
   ]
  },
  {
   "cell_type": "markdown",
   "id": "8a943119",
   "metadata": {},
   "source": [
    "covert dataframe to a numpy array using the values property"
   ]
  },
  {
   "cell_type": "code",
   "execution_count": 18,
   "id": "a50ef4f3",
   "metadata": {},
   "outputs": [],
   "source": [
    "X_train = df_num.values"
   ]
  },
  {
   "cell_type": "markdown",
   "id": "2fb63b9f",
   "metadata": {},
   "source": [
    "## below we will train our first model! \n",
    "#### X_train is a two-dimensional NumPy array. It’s something we can use as input to our linear_regresson function. "
   ]
  },
  {
   "cell_type": "code",
   "execution_count": 19,
   "id": "b7bcd99f",
   "metadata": {},
   "outputs": [],
   "source": [
    "w_0, w = train_linear_regression(X_train, y_train)"
   ]
  },
  {
   "cell_type": "markdown",
   "id": "45c9c93f",
   "metadata": {},
   "source": [
    "#### Now we can apply it to the training data to see how well it predicts:"
   ]
  },
  {
   "cell_type": "code",
   "execution_count": 20,
   "id": "b3e9c426",
   "metadata": {},
   "outputs": [],
   "source": [
    "y_pred = w_0 + X_train.dot(w)"
   ]
  },
  {
   "cell_type": "markdown",
   "id": "82c54ceb",
   "metadata": {},
   "source": [
    "#### next we'll plot the predicted values and compare them with the actual prices:"
   ]
  },
  {
   "cell_type": "code",
   "execution_count": 21,
   "id": "e83df377",
   "metadata": {},
   "outputs": [
    {
     "data": {
      "text/plain": [
       "<matplotlib.legend.Legend at 0x7fd31dd1e1c0>"
      ]
     },
     "execution_count": 21,
     "metadata": {},
     "output_type": "execute_result"
    },
    {
     "data": {
      "image/png": "[encoded data removed]",
      "text/plain": [
       "<Figure size 432x288 with 1 Axes>"
      ]
     },
     "metadata": {
      "needs_background": "light"
     },
     "output_type": "display_data"
    }
   ],
   "source": [
    "sns.histplot(y_pred, label='prediction')\n",
    "sns.histplot(y_train, label='target')\n",
    "plt.legend()"
   ]
  },
  {
   "cell_type": "markdown",
   "id": "2a157eaf",
   "metadata": {},
   "source": [
    "#### The distribution of the predicted values (light gray) and the actual values (dark gray). We see that our predictions aren’t very good; they are very different from the actual distribution.\n",
    "\n",
    "#### We can see from the plot (figure 2.14) that the distribution of values we predicted looks quite different from the actual values. This result may indicate that the model is not powerful enough to capture the distribution of the target variable. This shouldn’t be a surprise to us: the model we used is quite basic and includes only five very simple features."
   ]
  },
  {
   "cell_type": "markdown",
   "id": "bb555826",
   "metadata": {},
   "source": [
    "## RMSE: Evaluating model quality\n",
    "#### Root mean squared error"
   ]
  },
  {
   "cell_type": "markdown",
   "id": "ecea3bed",
   "metadata": {},
   "source": [
    "#### When using NumPy to implement RMSE, we can take advantage of vectorization: the process of applying the same operation to all elements of one or more NumPy arrays."
   ]
  },
  {
   "cell_type": "code",
   "execution_count": 22,
   "id": "be6fa0de",
   "metadata": {},
   "outputs": [],
   "source": [
    "def rmse(y, y_pred):\n",
    "    # compute the difference b/w the prediction and the \n",
    "    error = y_pred - y\n",
    "    \n",
    "    # Compute MSE: first computes the squared error, and then calculates its mean\n",
    "    mse = (error ** 2).mean()\n",
    "    \n",
    "    # take the square root to get RMSE\n",
    "    return np.sqrt(mse)"
   ]
  },
  {
   "cell_type": "markdown",
   "id": "a0ddb97f",
   "metadata": {},
   "source": [
    "We can use RMSE to evaluate the quality of the model:"
   ]
  },
  {
   "cell_type": "code",
   "execution_count": 23,
   "id": "46eff63a",
   "metadata": {},
   "outputs": [
    {
     "data": {
      "text/plain": [
       "0.7554192603920132"
      ]
     },
     "execution_count": 23,
     "metadata": {},
     "output_type": "execute_result"
    }
   ],
   "source": [
    "rmse(y_train, y_pred)"
   ]
  },
  {
   "cell_type": "markdown",
   "id": "7a7dbf30",
   "metadata": {},
   "source": [
    "#### This number tells us that on average, the model’s predictions are off by 0.75. This result alone may not be very useful, but we can use it to compare this model with other models. If one model has a better (lower) RMSE than the other, it indicates that model is better."
   ]
  },
  {
   "cell_type": "markdown",
   "id": "df754bcf",
   "metadata": {},
   "source": [
    "## Validating the model"
   ]
  },
  {
   "cell_type": "markdown",
   "id": "d1df39f1",
   "metadata": {},
   "source": [
    "#### We have already split our data into multiple parts: df_train, df_val, and df_test. We have also created a matrix X_train from df_train and used X_train and y_train to train the model. Now we need to do the same steps to get X_val — a matrix with features computed from the validation dataset. Then we can apply the model to X_val to get predictions and compare them with y_val."
   ]
  },
  {
   "cell_type": "markdown",
   "id": "19abe36d",
   "metadata": {},
   "source": [
    "First, we create the X_val matrix, following the same steps as for X_train:"
   ]
  },
  {
   "cell_type": "code",
   "execution_count": 24,
   "id": "9c1f569f",
   "metadata": {},
   "outputs": [],
   "source": [
    "df_num = df_val[base]\n",
    "df_num = df_num.fillna(0)\n",
    "X_val = df_num.values"
   ]
  },
  {
   "cell_type": "markdown",
   "id": "f8b80f11",
   "metadata": {},
   "source": [
    "#### We’re ready to apply the model to X_val to get predictions:"
   ]
  },
  {
   "cell_type": "code",
   "execution_count": 25,
   "id": "617f4be8",
   "metadata": {},
   "outputs": [],
   "source": [
    "y_pred = w_0 + X_val.dot(w)"
   ]
  },
  {
   "cell_type": "markdown",
   "id": "1299ce52",
   "metadata": {},
   "source": [
    "#### The y_pred array contains the predictions for the validation dataset. Now we use y_pred and compare it with the actual prices from y_val, using the RMSE function that we implemented previously:"
   ]
  },
  {
   "cell_type": "code",
   "execution_count": 26,
   "id": "7ed5579b",
   "metadata": {},
   "outputs": [
    {
     "data": {
      "text/plain": [
       "0.761653099130156"
      ]
     },
     "execution_count": 26,
     "metadata": {},
     "output_type": "execute_result"
    }
   ],
   "source": [
    "rmse(y_val, y_pred)"
   ]
  },
  {
   "cell_type": "markdown",
   "id": "ebc86594",
   "metadata": {},
   "source": [
    "In the previous code we already see some duplication: training and validation tests require the same preprocessing, and we wrote the same code twice. Thus, it makes sense to move this logic to a separate function and avoid duplicating the code.\n",
    "\n",
    "#### We can call this function prepare_X because it creates a matrix X from a Data-Frame."
   ]
  },
  {
   "cell_type": "code",
   "execution_count": 27,
   "id": "a570887a",
   "metadata": {},
   "outputs": [],
   "source": [
    "def prepare_X(df):\n",
    "    df_num = df[base]\n",
    "    df_num = df_num.fillna(0)\n",
    "    X = df_num.values\n",
    "    return X"
   ]
  },
  {
   "cell_type": "markdown",
   "id": "f39a0a2f",
   "metadata": {},
   "source": [
    "#### Now the whole training and evaluation becomes simpler and looks like this:"
   ]
  },
  {
   "cell_type": "code",
   "execution_count": 28,
   "id": "75165940",
   "metadata": {},
   "outputs": [
    {
     "name": "stdout",
     "output_type": "stream",
     "text": [
      "validaiton: 0.761653099130156\n"
     ]
    }
   ],
   "source": [
    "# Train the model\n",
    "X_train = prepare_X(df_train)\n",
    "w_0, w = train_linear_regression(X_train, y_train)\n",
    "\n",
    "# Apply the model to the validation dataset\n",
    "X_val = prepare_X(df_val)\n",
    "y_pred = w_0 + X_val.dot(w)\n",
    "\n",
    "# compute rmse on the validation data\n",
    "print('validaiton:', rmse(y_val, y_pred))"
   ]
  },
  {
   "cell_type": "markdown",
   "id": "ad7b7d2f",
   "metadata": {},
   "source": [
    "#### This gives us a way to check whether any model adjustments lead to improvements in the predictive quality of the model."
   ]
  },
  {
   "cell_type": "markdown",
   "id": "cad65311",
   "metadata": {},
   "source": [
    "## Simple feature engineering"
   ]
  },
  {
   "cell_type": "markdown",
   "id": "61057cb3",
   "metadata": {},
   "source": [
    "we can calculate the age by subtracting the year when the car\n",
    "was made from 2017:"
   ]
  },
  {
   "cell_type": "code",
   "execution_count": 29,
   "id": "c8acc764",
   "metadata": {},
   "outputs": [],
   "source": [
    "df_train['age'] = 2017 - df_train.year"
   ]
  },
  {
   "cell_type": "code",
   "execution_count": 30,
   "id": "89dc4872",
   "metadata": {},
   "outputs": [],
   "source": [
    "# Create a copy of the input parameter to prevent side effects\n",
    "def prepare_X(df):\n",
    "    df = df.copy()\n",
    "    # createa a copy of the base list with the basic features\n",
    "    features = base.copy()\n",
    "    \n",
    "    # Compute the age feature\n",
    "    df['age'] = 2017 - df.year\n",
    "    # Appen age to the list of feature names we use for the model\n",
    "    features.append('age')\n",
    "    \n",
    "    df_num = df[features]\n",
    "    df_num = df_num.fillna(0)\n",
    "    X = df_num.values\n",
    "    return X"
   ]
  },
  {
   "cell_type": "markdown",
   "id": "17faaf75",
   "metadata": {},
   "source": [
    "#### test if adding the feature “age” leads to any improvements:"
   ]
  },
  {
   "cell_type": "code",
   "execution_count": 31,
   "id": "97a12c24",
   "metadata": {},
   "outputs": [
    {
     "name": "stdout",
     "output_type": "stream",
     "text": [
      "train 0.5175055465840046\n",
      "validation 0.5172055461058299\n"
     ]
    }
   ],
   "source": [
    "X_train = prepare_X(df_train)\n",
    "w_0, w = train_linear_regression(X_train, y_train)\n",
    "\n",
    "y_pred = w_0 + X_train.dot(w)\n",
    "print('train', rmse(y_train, y_pred))\n",
    "\n",
    "X_val = prepare_X(df_val)\n",
    "y_pred = w_0 + X_val.dot(w)\n",
    "print('validation', rmse(y_val, y_pred))"
   ]
  },
  {
   "cell_type": "markdown",
   "id": "8405fc52",
   "metadata": {},
   "source": [
    "#### The validation error is 0.517, which is a good improvement from 0.76 — the value we had in the baseline solution. Thus, we conclude that adding “age” is indeed helpful when making predictions.\n"
   ]
  },
  {
   "cell_type": "markdown",
   "id": "00a5c6f7",
   "metadata": {},
   "source": [
    "We can also look at the distribution of the predicted values:"
   ]
  },
  {
   "cell_type": "code",
   "execution_count": 32,
   "id": "30fcd9d5",
   "metadata": {},
   "outputs": [
    {
     "data": {
      "text/plain": [
       "<matplotlib.legend.Legend at 0x7fd31e058040>"
      ]
     },
     "execution_count": 32,
     "metadata": {},
     "output_type": "execute_result"
    },
    {
     "data": {
      "image/png": "[encoded data removed]",
      "text/plain": [
       "<Figure size 432x288 with 1 Axes>"
      ]
     },
     "metadata": {
      "needs_background": "light"
     },
     "output_type": "display_data"
    }
   ],
   "source": [
    "sns.histplot(y_pred, label='prediction', color='#f62b00')\n",
    "sns.histplot(y_val, label='target', color='#000dff', alpha=0.5)\n",
    "plt.legend()"
   ]
  },
  {
   "cell_type": "markdown",
   "id": "db575e99",
   "metadata": {},
   "source": [
    "## Handling categorical variables"
   ]
  },
  {
   "cell_type": "code",
   "execution_count": 33,
   "id": "26d4504f",
   "metadata": {},
   "outputs": [
    {
     "data": {
      "text/plain": [
       "chevrolet     1123\n",
       "ford           881\n",
       "volkswagen     809\n",
       "toyota         746\n",
       "dodge          626\n",
       "Name: make, dtype: int64"
      ]
     },
     "execution_count": 33,
     "metadata": {},
     "output_type": "execute_result"
    }
   ],
   "source": [
    "df['make'].value_counts().head(5)"
   ]
  },
  {
   "cell_type": "code",
   "execution_count": 34,
   "id": "8d5e32f4",
   "metadata": {},
   "outputs": [],
   "source": [
    "def prepare_X(df):\n",
    "    df = df.copy()\n",
    "    features = base.copy()\n",
    "\n",
    "    df['age'] = 2017 - df.year\n",
    "    features.append('age')"
   ]
  },
  {
   "cell_type": "markdown",
   "id": "49e43b71",
   "metadata": {},
   "source": [
    "In our case, we will create three binary features: num_doors_2, num_doors_3, and num_doors_4. If the car has two doors, num_doors_2 will be set to 1, and the rest will be 0. If the car has three doors, num_doors_3 will get the value 1, and the same goes for\n",
    "num_doors_4. This method of encoding categorical variables is called one-hot encoding."
   ]
  },
  {
   "cell_type": "code",
   "execution_count": 35,
   "id": "e8cef2a0",
   "metadata": {},
   "outputs": [],
   "source": [
    "def prepare_X(df):\n",
    "    df = df.copy()\n",
    "    features = base.copy()\n",
    "\n",
    "    df['age'] = 2017 - df.year\n",
    "    features.append('age')\n",
    "\n",
    "    # Iterate over possible values of the 'number of doors' variable\n",
    "    for v in [2, 3, 4]:\n",
    "        # Give a feature a meaningful name, such as 'num_doors_2' for v=2\n",
    "        feature = 'num_doors_%s' % v\n",
    "        # Create the one-hot-encoding feature\n",
    "        value = (df['number_of_doors'] == v).astype(int)\n",
    "        # Add feature back to the dataframe, using the name from feature\n",
    "        df[feature] = value\n",
    "        features.append(feature)\n",
    "\n",
    "    # we create five new variables called is_make_chevrolet, is_make_ford, is_ make_volkswagen, is_make_toyota, and is_make_dodge:\n",
    "    for v in ['chevrolet', 'ford', 'volkswagen', 'toyota', 'dodge']:\n",
    "        feature = 'is_make_%s' % v\n",
    "        df[feature] = (df['make'] == v).astype(int)\n",
    "        features.append(feature)\n",
    "\n",
    "    df_num = df[features]\n",
    "    df_num = df_num.fillna(0)\n",
    "    X = df_num.values\n",
    "    return X"
   ]
  },
  {
   "cell_type": "markdown",
   "id": "84a7ee0f",
   "metadata": {},
   "source": [
    "#### Check whether this code improves the RMSE of the model"
   ]
  },
  {
   "cell_type": "code",
   "execution_count": 36,
   "id": "09f7c29f",
   "metadata": {},
   "outputs": [
    {
     "name": "stdout",
     "output_type": "stream",
     "text": [
      "train: 0.5058876515487503\n",
      "validation: 0.5076038849556642\n"
     ]
    }
   ],
   "source": [
    "X_train = prepare_X(df_train)\n",
    "w_0, w = train_linear_regression(X_train, y_train)\n",
    "\n",
    "y_pred = w_0 + X_train.dot(w)\n",
    "print('train:', rmse(y_train, y_pred))\n",
    "\n",
    "X_val = prepare_X(df_val)\n",
    "y_pred = w_0 + X_val.dot(w)\n",
    "print('validation:', rmse(y_val, y_pred))"
   ]
  },
  {
   "cell_type": "markdown",
   "id": "810e2c73",
   "metadata": {},
   "source": [
    "previous  value was 0.517, so we managed to improve the RMSE score from 0.517 to 0.507"
   ]
  },
  {
   "cell_type": "markdown",
   "id": "c84a36b0",
   "metadata": {},
   "source": [
    "#### We can use a few more variables: engine_fuel_type, transmission_type, driven_ wheels, market_category, vehicle_size, and vehicle_style. Let’s do the same thing for them. After the modifications, the prepare_X starts looking a bit more complex."
   ]
  },
  {
   "cell_type": "code",
   "execution_count": 37,
   "id": "87b205a6",
   "metadata": {},
   "outputs": [
    {
     "data": {
      "text/plain": [
       "automatic           8266\n",
       "manual              2935\n",
       "automated_manual     626\n",
       "direct_drive          68\n",
       "unknown               19\n",
       "Name: transmission_type, dtype: int64"
      ]
     },
     "execution_count": 37,
     "metadata": {},
     "output_type": "execute_result"
    }
   ],
   "source": [
    "df['transmission_type'].value_counts()"
   ]
  },
  {
   "cell_type": "markdown",
   "id": "b3ec3932",
   "metadata": {},
   "source": [
    "### my code didn't work so used code from the books github. my code is commented out"
   ]
  },
  {
   "cell_type": "code",
   "execution_count": 38,
   "id": "57776b03",
   "metadata": {},
   "outputs": [],
   "source": [
    "# def prepare_X(df):\n",
    "#     df = df.copy()\n",
    "#     features = base.copy()\n",
    "\n",
    "#     df['age'] = 2017 - df.year\n",
    "#     features.append('age')\n",
    "\n",
    "#     # Iterate over possible values of the 'number of doors' variable\n",
    "#     for v in [2, 3, 4]:\n",
    "#         # Give a feature a meaningful name, such as 'num_doors_2' for v=2\n",
    "#         feature = 'num_doors_%s' % v\n",
    "#         # Create the one-hot-encoding feature\n",
    "#         value = (df['number_of_doors'] == v).astype(int)\n",
    "#         # Add feature back to the dataframe, using the name from feature\n",
    "#         df[feature] = value\n",
    "#         features.append(feature)\n",
    "\n",
    "#     # we create five new variables called is_make_chevrolet, is_make_ford, is_ make_volkswagen, is_make_toyota, and is_make_dodge:\n",
    "#     for v in ['chevrolet', 'ford', 'volkswagen', 'toyota', 'dodge']:\n",
    "#         feature = 'is_make_%s' % v\n",
    "#         df[feature] = (df['make'] == v).astype(int)\n",
    "#         features.append(feature)\n",
    "        \n",
    "#     # Encode the type variable\n",
    "#     for v in ['regular_unleaded', 'premium_unleaded_(required)', \n",
    "#               'premium_unleaded_(recommended)', 'flex-fuel_(runleaded/e85)']:\n",
    "#         feature = 'is_type_%s' % v\n",
    "#         df[feature] = (df['engine_fuel_type'] == v).astype(int)\n",
    "#         features.append(feature)\n",
    "        \n",
    "    \n",
    "#     # Encode the trasmission variable\n",
    "#     for v in ['automatic', 'manual', 'automated_manual']:\n",
    "#         feature = 'is_transmission_%s' % v\n",
    "#         df[feature] = (df['transmission_type'] == v).astype(int)\n",
    "#         features.append(feature)\n",
    "        \n",
    "#     # Encode the number driven wheels\n",
    "#     for v in ['front_wheel_drive', 'rear_wheel_drive',\n",
    "#              'all_wheel_drive', 'four_wheel_drive']:\n",
    "#         feature = 'is_drive_wheels_%s' % v\n",
    "#         df[feature] = (df['driven_wheels'] == v).astype(int)\n",
    "#         features.append(features)\n",
    "        \n",
    "#     # Encode the market category\n",
    "#     for v in ['crossover', 'flex_fuel', 'luxury',\n",
    "#               'luxury,performance', 'hatchback']:\n",
    "#         features = 'is_mc_%s' % v\n",
    "#         df[feature] = (df['market_category'] == v).astype(int)\n",
    "#         features.append(feature)\n",
    "        \n",
    "#     # Encode the size\n",
    "#     for v in ['compact', 'midsize', 'large']:\n",
    "#         feature = 'is_size_%s' % v\n",
    "#         df[feature] = (df['vehichle_size'] == v).astype(int)\n",
    "#         features.append(feature)\n",
    "        \n",
    "#     # Encode the style\n",
    "#     for v in ['sedan', '4dr_suv', 'coupe', 'convertible', \n",
    "#              '4dr_hatchback']:\n",
    "#         feature = 'is_style_%s' % v\n",
    "#         df[feature] = (df['vehicle_style'] == v).astype(int)\n",
    "\n",
    "\n",
    "#     df_num = df[features]\n",
    "#     df_num = df_num.fillna(0)\n",
    "#     X = df_num.values\n",
    "#     return X\n",
    "\n",
    "\n",
    "\n",
    "def prepare_X(df):\n",
    "    df = df.copy()\n",
    "    features = base.copy()\n",
    "\n",
    "    df['age'] = 2017 - df.year\n",
    "    features.append('age')\n",
    "    \n",
    "    for v in [2, 3, 4]:\n",
    "        feature = 'num_doors_%s' % v\n",
    "        df[feature] = (df['number_of_doors'] == v).astype(int)\n",
    "        features.append(feature)\n",
    "\n",
    "    for v in ['chevrolet', 'ford', 'volkswagen', 'toyota', 'dodge']:\n",
    "        feature = 'is_make_%s' % v\n",
    "        df[feature] = (df['make'] == v).astype(int)\n",
    "        features.append(feature)\n",
    "\n",
    "    for v in ['regular_unleaded', 'premium_unleaded_(required)', \n",
    "              'premium_unleaded_(recommended)', 'flex-fuel_(unleaded/e85)']:\n",
    "        feature = 'is_type_%s' % v\n",
    "        df[feature] = (df['engine_fuel_type'] == v).astype(int)\n",
    "        features.append(feature)\n",
    "\n",
    "    for v in ['automatic', 'manual', 'automated_manual']:\n",
    "        feature = 'is_transmission_%s' % v\n",
    "        df[feature] = (df['transmission_type'] == v).astype(int)\n",
    "        features.append(feature)\n",
    "        \n",
    "    df_num = df[features]\n",
    "    df_num = df_num.fillna(0)\n",
    "    X = df_num.values\n",
    "    return X\n",
    "\n"
   ]
  },
  {
   "cell_type": "markdown",
   "id": "75026ff4",
   "metadata": {},
   "source": [
    "#### Now to test it"
   ]
  },
  {
   "cell_type": "code",
   "execution_count": 39,
   "id": "dc5d7bc2",
   "metadata": {},
   "outputs": [
    {
     "name": "stdout",
     "output_type": "stream",
     "text": [
      "train: 0.4745380510924004\n",
      "validation: 0.46858791946604184\n"
     ]
    }
   ],
   "source": [
    "X_train = prepare_X(df_train)\n",
    "w_0, w = train_linear_regression(X_train, y_train)\n",
    "\n",
    "y_pred = w_0 + X_train.dot(w)\n",
    "print('train:', rmse(y_train, y_pred))\n",
    "\n",
    "X_val = prepare_X(df_val)\n",
    "y_pred = w_0 + X_val.dot(w)\n",
    "print('validation:', rmse(y_val, y_pred))"
   ]
  },
  {
   "cell_type": "markdown",
   "id": "4f889dc1",
   "metadata": {},
   "source": [
    "#### the validation is now 0.46 which is lower than the 0.5 we had before\n",
    "\n",
    "### Instead of helping, the new features made the score a lot worse. Luckily, we have validation to help us spot this problem. In the next section, we will see why it happens and how to deal with it."
   ]
  },
  {
   "cell_type": "markdown",
   "id": "72a9a01e",
   "metadata": {},
   "source": [
    "## Regularization"
   ]
  },
  {
   "cell_type": "code",
   "execution_count": 40,
   "id": "2e90d2eb",
   "metadata": {},
   "outputs": [],
   "source": [
    "# Control the amount of regularization by using the parameter\n",
    "def train_linear_regression_reg(X, y, r=0.0):\n",
    "    ones = np.ones(X.shape[0])\n",
    "    X = np.column_stack([ones, X])\n",
    "\n",
    "    # Adds r to the main diagonal of XTX\n",
    "    XTX = X.T.dot(X)\n",
    "    reg = r * np.eye(XTX.shape[0])\n",
    "    XTX = XTX + reg\n",
    "\n",
    "    XTX_inv = np.linalg.inv(XTX)\n",
    "    w = XTX_inv.dot(X.T).dot(y)\n",
    "    \n",
    "    return w[0], w[1:]"
   ]
  },
  {
   "cell_type": "markdown",
   "id": "2138ae25",
   "metadata": {},
   "source": [
    "#### Let’s check what happens with our weights for different values of r:"
   ]
  },
  {
   "cell_type": "code",
   "execution_count": 41,
   "id": "bacd2f50",
   "metadata": {},
   "outputs": [
    {
     "name": "stdout",
     "output_type": "stream",
     "text": [
      "    0, 11.52, -0.14, -0.13\n",
      "0.001, 11.52, -0.14, -0.13\n",
      " 0.01, 11.49, -0.14, -0.13\n",
      "  0.1, 11.22, -0.14, -0.10\n",
      "    1, 9.51, -0.13, 0.17\n",
      "   10, 6.11, -0.12, 1.12\n"
     ]
    }
   ],
   "source": [
    "for r in [0, 0.001, 0.01, 0.1, 1, 10]:\n",
    "    w_0, w = train_linear_regression_reg(X_train, y_train, r=r)\n",
    "    print('%5s, %.2f, %.2f, %.2f' % (r, w_0, w[13], w[20]))"
   ]
  },
  {
   "cell_type": "code",
   "execution_count": 42,
   "id": "8a57daf0",
   "metadata": {},
   "outputs": [
    {
     "name": "stdout",
     "output_type": "stream",
     "text": [
      "validation: 0.468590151741864\n"
     ]
    }
   ],
   "source": [
    "X_train = prepare_X(df_train)\n",
    "w_0, w = train_linear_regression_reg(X_train, y_train, r=0.001)\n",
    "\n",
    "X_val = prepare_X(df_val)\n",
    "y_pred = w_0 + X_val.dot(w)\n",
    "print('validation:', rmse(y_val, y_pred))"
   ]
  },
  {
   "cell_type": "code",
   "execution_count": 43,
   "id": "a904dc94",
   "metadata": {},
   "outputs": [
    {
     "name": "stdout",
     "output_type": "stream",
     "text": [
      " 1e-05 0.4685879417832623\n",
      "0.0001 0.46858814264365023\n",
      " 0.001 0.468590151741864\n",
      "  0.01 0.46861029160245193\n",
      "   0.1 0.4688161090226754\n",
      "     1 0.4710847667625058\n",
      "     5 0.48136260653690316\n",
      "    10 0.4926865711195299\n"
     ]
    }
   ],
   "source": [
    "X_train = prepare_X(df_train)\n",
    "X_val = prepare_X(df_val)\n",
    "\n",
    "for r in [0.00001, 0.0001, 0.001, 0.01, 0.1, 1, 5, 10]:\n",
    "    w_0, w = train_linear_regression_reg(X_train, y_train, r=r)\n",
    "    y_pred = w_0 + X_val.dot(w)\n",
    "    print('%6s' %r, rmse(y_val, y_pred))"
   ]
  },
  {
   "cell_type": "code",
   "execution_count": 44,
   "id": "1a67cf9b",
   "metadata": {},
   "outputs": [
    {
     "name": "stdout",
     "output_type": "stream",
     "text": [
      "validation: 0.46861029160245193\n",
      "test: 0.46306974983182214\n"
     ]
    }
   ],
   "source": [
    "X_train = prepare_X(df_train)\n",
    "w_0, w = train_linear_regression_reg(X_train, y_train, r=0.01)\n",
    "\n",
    "X_val = prepare_X(df_val)\n",
    "y_pred = w_0 + X_val.dot(w)\n",
    "print('validation:', rmse(y_val, y_pred))\n",
    "\n",
    "X_test = prepare_X(df_test)\n",
    "y_pred = w_0 + X_test.dot(w)\n",
    "print('test:', rmse(y_test, y_pred))"
   ]
  },
  {
   "cell_type": "code",
   "execution_count": 45,
   "id": "a803557f",
   "metadata": {},
   "outputs": [
    {
     "data": {
      "text/plain": [
       "{'make': 'toyota',\n",
       " 'model': 'venza',\n",
       " 'year': 2013,\n",
       " 'engine_fuel_type': 'regular_unleaded',\n",
       " 'engine_hp': 268.0,\n",
       " 'engine_cylinders': 6.0,\n",
       " 'transmission_type': 'automatic',\n",
       " 'driven_wheels': 'all_wheel_drive',\n",
       " 'number_of_doors': 4.0,\n",
       " 'market_category': 'crossover,performance',\n",
       " 'vehicle_size': 'midsize',\n",
       " 'vehicle_style': 'wagon',\n",
       " 'highway_mpg': 25,\n",
       " 'city_mpg': 18,\n",
       " 'popularity': 2031}"
      ]
     },
     "execution_count": 45,
     "metadata": {},
     "output_type": "execute_result"
    }
   ],
   "source": [
    "i = 2\n",
    "ad = df_test.iloc[i].to_dict()\n",
    "ad"
   ]
  },
  {
   "cell_type": "code",
   "execution_count": 46,
   "id": "e298c45c",
   "metadata": {},
   "outputs": [
    {
     "data": {
      "text/plain": [
       "27229.433946581292"
      ]
     },
     "execution_count": 46,
     "metadata": {},
     "output_type": "execute_result"
    }
   ],
   "source": [
    "X_test = prepare_X(pd.DataFrame([ad]))[0]\n",
    "y_pred = w_0 + X_test.dot(w)\n",
    "suggestion = np.expm1(y_pred)\n",
    "suggestion"
   ]
  },
  {
   "cell_type": "code",
   "execution_count": null,
   "id": "560d4d98",
   "metadata": {},
   "outputs": [],
   "source": []
  }
 ],
 "metadata": {
  "kernelspec": {
   "display_name": "Python 3 (ipykernel)",
   "language": "python",
   "name": "python3"
  },
  "language_info": {
   "codemirror_mode": {
    "name": "ipython",
    "version": 3
   },
   "file_extension": ".py",
   "mimetype": "text/x-python",
   "name": "python",
   "nbconvert_exporter": "python",
   "pygments_lexer": "ipython3",
   "version": "3.8.13"
  }
 },
 "nbformat": 4,
 "nbformat_minor": 5
}
